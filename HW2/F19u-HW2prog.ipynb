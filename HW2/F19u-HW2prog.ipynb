{
 "cells": [
  {
   "cell_type": "markdown",
   "metadata": {},
   "source": [
    "#### Programming part of Homework 2 (Data Structures, Fall 2019)\n",
    "\n",
    "## Name:\n",
    "## Student ID Number:\n",
    "\n",
    "### Programming problem 1\n",
    "Recall that in problem 1, Give a recursive algorithm to compute the product of two positive integers, $m$ and $n$, using only addition and subtraction.\n",
    "This programming problem is to consider the recursive approach in above problem and asks you to complete the following tasks.\n",
    "1. Implement the approach as a function named as `product_rec` using Python.\n",
    "2. Please have an iterative version for the approach and write a function for this version with function name `product_ite`.\n",
    "3. Compare these two function with the same input in terms of running time and write what you have observed.\n",
    "\n",
    "Note that we will use an in-built python library **`timeit`** and he module function **`timeit.timeit()`** for measuring the runnin time."
   ]
  },
  {
   "cell_type": "code",
   "execution_count": 1,
   "metadata": {
    "scrolled": true
   },
   "outputs": [],
   "source": [
    "# Please write your code for product_rec() here\n",
    "def product_rec()\n",
    "    "
   ]
  },
  {
   "cell_type": "code",
   "execution_count": 2,
   "metadata": {},
   "outputs": [],
   "source": [
    "# Please write your code for product_ite()\n",
    "def product_ite()"
   ]
  },
  {
   "cell_type": "code",
   "execution_count": 3,
   "metadata": {},
   "outputs": [
    {
     "name": "stdout",
     "output_type": "stream",
     "text": [
      "Running time comparison (Timer Method 1):\n",
      "Recursion result 499500 Iteration result 499500\n",
      "Recursive approach: 0.6666580779710785\n",
      "iterative approach: 0.6606104740640149\n",
      "Running time comparison (Timer Method 2):\n",
      "Recursion result 499500 Iteration result 499500\n",
      "Recursive approach: 0.6132448940770701\n",
      "Iterative approach: 0.5684783140895888\n"
     ]
    }
   ],
   "source": [
    "# This piece of code is for the ways to measure the running time.\n",
    "# Please check the document of timeit library for more detail.\n",
    "# We here briefly give two methods for your reference.\n",
    "#---------------------------------------------------------timeit\n",
    "import timeit as ti\n",
    "\n",
    "#--------------------------- function for illustration\n",
    "def function():\n",
    "    s = 0\n",
    "    for i in range(1000):\n",
    "        s += i\n",
    "    return s\n",
    "\n",
    "#---------------------------------------------------------Method 1\n",
    "print(\"Running time comparison (Timer Method 1):\")\n",
    "tstart = ti.default_timer() #timer start 計時器開啟\n",
    "for i in range(10000):\n",
    "    function()\n",
    "tend = ti.default_timer() #timer end計時器關閉\n",
    "t_rec=tend - tstart#開始與結束的差值\n",
    "\n",
    "tstart = ti.default_timer() #timer start 計時器開啟\n",
    "for i in range(10000):\n",
    "    function()\n",
    "tend = ti.default_timer() #timer end計時器關閉\n",
    "t_ite=tend - tstart#開始與結束的差值\n",
    "print(\"Recursion result\", function(),\"Iteration result\", function())\n",
    "print(\"Recursive approach:\", t_rec)\n",
    "print(\"iterative approach:\", t_ite)\n",
    "\n",
    "#---------------------------------------------------------Method 2\n",
    "print(\"Running time comparison (Timer Method 2):\")\n",
    "t_rec = ti.timeit(\"function()\", setup=\"from __main__ import function\", number = 10000)#timeit(函數名稱,執行次數)\n",
    "t_ite = ti.timeit(\"function()\", setup=\"from __main__ import function\", number = 10000)\n",
    "\n",
    "print(\"Recursion result\", function(),\"Iteration result\", function())\n",
    "print(\"Recursive approach:\", t_rec)\n",
    "print(\"Iterative approach:\", t_ite)"
   ]
  },
  {
   "cell_type": "markdown",
   "metadata": {},
   "source": [
    "#### Please write down the observations you have after the comparisons:\n",
    "##### Inputs for five experiments\n",
    "1.<br>\n",
    "2.<br>\n",
    "3.<br>\n",
    "4.<br>\n",
    "5.<br>\n",
    "##### Results of comparisoms\n",
    "*******************************************************************************************************\n",
    "**Method 1**\n",
    "\n",
    "| time          | time for exp1  | time for exp2  | time for exp3  | time for exp4  | time for exp5  | \n",
    "| -----------   | -------------- | -------------- | -------------- | -------------- | -------------- |\n",
    "|Recursion      |                |                |                |                |                |\n",
    "|Iteration      |                |                |                |                |                |\n",
    "\n",
    "**Method 2**\n",
    "\n",
    "| time          | time for exp1  | time for exp2  | time for exp3  | time for exp4  | time for exp5  | \n",
    "| -----------   | -------------- | -------------- | -------------- | -------------- | -------------- |\n",
    "|Recursion      |                |                |                |                |                |\n",
    "|Iteration      |                |                |                |                |                |\n",
    "\n",
    "*******************************************************************************************************\n",
    "\n",
    "##### Observations"
   ]
  },
  {
   "cell_type": "markdown",
   "metadata": {},
   "source": [
    "### Programming problem 2\n",
    "Consider the iterative version of **selection sort** in problem 2. Please complete the following tasks.\n",
    "1. Implement the iterative approach using Python and name the function as `Iterative_Selection_Sort`.\n",
    "2. Please implement the recursive version you provide in problem 2(b) with the function name of `Recursive_Selection_Sort`.\n",
    "3. Compare these two function with the same input in terms of running time and write what you have observed."
   ]
  },
  {
   "cell_type": "code",
   "execution_count": 4,
   "metadata": {},
   "outputs": [],
   "source": [
    "# Please write your code for Iterative_Selection_Sort(A)\n"
   ]
  },
  {
   "cell_type": "code",
   "execution_count": 5,
   "metadata": {},
   "outputs": [],
   "source": [
    "# Please write your code for Recursive_Selection_Sort(A):\n"
   ]
  },
  {
   "cell_type": "code",
   "execution_count": 6,
   "metadata": {
    "scrolled": false
   },
   "outputs": [
    {
     "name": "stdout",
     "output_type": "stream",
     "text": [
      "Running time comparison (Timer Method 1):\n",
      "Running time comparison (Timer Method 2):\n",
      "\n",
      "Example output:\n",
      "Running time comparison (Timer Method 1):\n",
      "The sorted array of [35, 11, 26, 13, 64, 21, 44, 6, 100, 57, 77, 82] with Recursion is\n",
      "[6, 11, 13, 21, 26, 35, 44, 57, 64, 77, 82, 100]\n",
      "The sorted array of [35, 11, 26, 13, 64, 21, 44, 6, 100, 57, 77, 82] with Iteration is\n",
      "[6, 11, 13, 21, 26, 35, 44, 57, 64, 77, 82, 100]\n",
      "Recursive approach: 0.17800856404937804\n",
      "Iterative approach: 0.13412072497885674\n",
      "Running time comparison (Timer Method 2):\n",
      "The sorted array of [35, 11, 26, 13, 64, 21, 44, 6, 100, 57, 77, 82] with Recursion is\n",
      "[6, 11, 13, 21, 26, 35, 44, 57, 64, 77, 82, 100]\n",
      "The sorted array of [35, 11, 26, 13, 64, 21, 44, 6, 100, 57, 77, 82] with Iteration is\n",
      "[100]\n",
      "Recursive approach: 0.18021759495604783\n",
      "iterative approach: 0.13470359798520803\n",
      "\n"
     ]
    }
   ],
   "source": [
    "#---------------------------------------------------------timeit\n",
    "#import timeit as ti\n",
    "\n",
    "A=[35, 11, 26, 13, 64, 21, 44, 6, 100, 57, 77, 82]\n",
    "\n",
    "#---------------------------------------------------------Method 1\n",
    "print(\"Running time comparison (Timer Method 1):\")\n",
    "\n",
    "#---------------------------------------------------------Method 2\n",
    "\n",
    "print(\"Running time comparison (Timer Method 2):\")\n",
    "\n",
    "print(\"\"\"\n",
    "Example output:\n",
    "Running time comparison (Timer Method 1):\n",
    "The sorted array of [35, 11, 26, 13, 64, 21, 44, 6, 100, 57, 77, 82] with Recursion is\n",
    "[6, 11, 13, 21, 26, 35, 44, 57, 64, 77, 82, 100]\n",
    "The sorted array of [35, 11, 26, 13, 64, 21, 44, 6, 100, 57, 77, 82] with Iteration is\n",
    "[6, 11, 13, 21, 26, 35, 44, 57, 64, 77, 82, 100]\n",
    "Recursive approach: 0.17800856404937804\n",
    "Iterative approach: 0.13412072497885674\n",
    "Running time comparison (Timer Method 2):\n",
    "The sorted array of [35, 11, 26, 13, 64, 21, 44, 6, 100, 57, 77, 82] with Recursion is\n",
    "[6, 11, 13, 21, 26, 35, 44, 57, 64, 77, 82, 100]\n",
    "The sorted array of [35, 11, 26, 13, 64, 21, 44, 6, 100, 57, 77, 82] with Iteration is\n",
    "[100]\n",
    "Recursive approach: 0.18021759495604783\n",
    "iterative approach: 0.13470359798520803\n",
    "\"\"\")"
   ]
  },
  {
   "cell_type": "markdown",
   "metadata": {},
   "source": [
    "#### Please write down the observations you have after the comparisons:\n",
    "##### Inputs for five experiments\n",
    "1.<br>\n",
    "2.<br>\n",
    "3.<br>\n",
    "4.<br>\n",
    "5.<br>\n",
    "##### Results of comparisoms\n",
    "*******************************************************************************************************\n",
    "**Method 1**\n",
    "\n",
    "| time          | time for exp1  | time for exp2  | time for exp3  | time for exp4  | time for exp5  | \n",
    "| -----------   | -------------- | -------------- | -------------- | -------------- | -------------- |\n",
    "|Recursion      |                |                |                |                |                |\n",
    "|Iteration      |                |                |                |                |                |\n",
    "\n",
    "**Method 2**\n",
    "\n",
    "| time          | time for exp1  | time for exp2  | time for exp3  | time for exp4  | time for exp5  | \n",
    "| -----------   | -------------- | -------------- | -------------- | -------------- | -------------- |\n",
    "|Recursion      |                |                |                |                |                |\n",
    "|Iteration      |                |                |                |                |                |\n",
    "\n",
    "*******************************************************************************************************\n",
    "\n",
    "##### Observations"
   ]
  }
 ],
 "metadata": {
  "kernelspec": {
   "display_name": "Python 3",
   "language": "python",
   "name": "python3"
  },
  "language_info": {
   "codemirror_mode": {
    "name": "ipython",
    "version": 3
   },
   "file_extension": ".py",
   "mimetype": "text/x-python",
   "name": "python",
   "nbconvert_exporter": "python",
   "pygments_lexer": "ipython3",
   "version": "3.7.4"
  }
 },
 "nbformat": 4,
 "nbformat_minor": 2
}
